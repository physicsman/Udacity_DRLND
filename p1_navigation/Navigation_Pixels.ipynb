{
 "cells": [
  {
   "cell_type": "markdown",
   "metadata": {},
   "source": [
    "# Navigation\n",
    "\n",
    "---\n",
    "\n",
    "Congratulations for completing the first project of the [Deep Reinforcement Learning Nanodegree](https://www.udacity.com/course/deep-reinforcement-learning-nanodegree--nd893)!  In this notebook, you will learn how to control an agent in a more challenging environment, where it can learn directly from raw pixels!  **Note that this exercise is optional!**\n",
    "\n",
    "### 1. Start the Environment\n",
    "\n",
    "We begin by importing some necessary packages.  If the code cell below returns an error, please revisit the project instructions to double-check that you have installed [Unity ML-Agents](https://github.com/Unity-Technologies/ml-agents/blob/master/docs/Installation.md) and [NumPy](http://www.numpy.org/)."
   ]
  },
  {
   "cell_type": "code",
   "execution_count": 1,
   "metadata": {},
   "outputs": [],
   "source": [
    "from unityagents import UnityEnvironment\n",
    "import numpy as np\n",
    "import matplotlib.pyplot as plt\n",
    "import cv2\n",
    "from collections import deque\n",
    "import copy\n",
    "%matplotlib inline"
   ]
  },
  {
   "cell_type": "markdown",
   "metadata": {},
   "source": [
    "Next, we will start the environment!  **_Before running the code cell below_**, change the `file_name` parameter to match the location of the Unity environment that you downloaded.\n",
    "\n",
    "- **Mac**: `\"path/to/VisualBanana.app\"`\n",
    "- **Windows** (x86): `\"path/to/VisualBanana_Windows_x86/Banana.exe\"`\n",
    "- **Windows** (x86_64): `\"path/to/VisualBanana_Windows_x86_64/Banana.exe\"`\n",
    "- **Linux** (x86): `\"path/to/VisualBanana_Linux/Banana.x86\"`\n",
    "- **Linux** (x86_64): `\"path/to/VisualBanana_Linux/Banana.x86_64\"`\n",
    "- **Linux** (x86, headless): `\"path/to/VisualBanana_Linux_NoVis/Banana.x86\"`\n",
    "- **Linux** (x86_64, headless): `\"path/to/VisualBanana_Linux_NoVis/Banana.x86_64\"`\n",
    "\n",
    "For instance, if you are using a Mac, then you downloaded `VisualBanana.app`.  If this file is in the same folder as the notebook, then the line below should appear as follows:\n",
    "```\n",
    "env = UnityEnvironment(file_name=\"VisualBanana.app\")\n",
    "```"
   ]
  },
  {
   "cell_type": "code",
   "execution_count": 2,
   "metadata": {
    "scrolled": true
   },
   "outputs": [
    {
     "name": "stderr",
     "output_type": "stream",
     "text": [
      "INFO:unityagents:\n",
      "'Academy' started successfully!\n",
      "Unity Academy name: Academy\n",
      "        Number of Brains: 1\n",
      "        Number of External Brains : 1\n",
      "        Lesson number : 0\n",
      "        Reset Parameters :\n",
      "\t\t\n",
      "Unity brain name: BananaBrain\n",
      "        Number of Visual Observations (per agent): 1\n",
      "        Vector Observation space type: continuous\n",
      "        Vector Observation space size (per agent): 0\n",
      "        Number of stacked Vector Observation: 1\n",
      "        Vector Action space type: discrete\n",
      "        Vector Action space size (per agent): 4\n",
      "        Vector Action descriptions: , , , \n"
     ]
    }
   ],
   "source": [
    "env = UnityEnvironment(file_name=\"VisualBanana_Linux/Banana.x86_64\", no_graphics=False)"
   ]
  },
  {
   "cell_type": "markdown",
   "metadata": {},
   "source": [
    "Environments contain **_brains_** which are responsible for deciding the actions of their associated agents. Here we check for the first brain available, and set it as the default brain we will be controlling from Python."
   ]
  },
  {
   "cell_type": "code",
   "execution_count": 3,
   "metadata": {},
   "outputs": [],
   "source": [
    "# get the default brain\n",
    "brain_name = env.brain_names[0]\n",
    "brain = env.brains[brain_name]"
   ]
  },
  {
   "cell_type": "markdown",
   "metadata": {},
   "source": [
    "### 2. Examine the State and Action Spaces\n",
    "\n",
    "The simulation contains a single agent that navigates a large environment.  At each time step, it has four actions at its disposal:\n",
    "- `0` - walk forward \n",
    "- `1` - walk backward\n",
    "- `2` - turn left\n",
    "- `3` - turn right\n",
    "\n",
    "The environment state is an array of raw pixels with shape `(1, 84, 84, 3)`.  *Note that this code differs from the notebook for the project, where we are grabbing **`visual_observations`** (the raw pixels) instead of **`vector_observations`**.* A reward of `+1` is provided for collecting a yellow banana, and a reward of `-1` is provided for collecting a blue banana. \n",
    "\n",
    "Run the code cell below to print some information about the environment."
   ]
  },
  {
   "cell_type": "code",
   "execution_count": 4,
   "metadata": {},
   "outputs": [
    {
     "name": "stdout",
     "output_type": "stream",
     "text": [
      "Number of agents: 1\n",
      "Number of actions: 4\n",
      "(1, 84, 84, 3)\n",
      "States look like:\n"
     ]
    },
    {
     "data": {
      "image/png": "[encoded data removed]",
      "text/plain": [
       "<Figure size 432x288 with 1 Axes>"
      ]
     },
     "metadata": {},
     "output_type": "display_data"
    },
    {
     "name": "stdout",
     "output_type": "stream",
     "text": [
      "States have shape: (1, 84, 84, 3)\n"
     ]
    },
    {
     "data": {
      "text/plain": [
       "<matplotlib.image.AxesImage at 0x7fe394779048>"
      ]
     },
     "execution_count": 4,
     "metadata": {},
     "output_type": "execute_result"
    },
    {
     "data": {
      "image/png": "[encoded data removed]",
      "text/plain": [
       "<Figure size 432x288 with 1 Axes>"
      ]
     },
     "metadata": {},
     "output_type": "display_data"
    }
   ],
   "source": [
    "# reset the environment\n",
    "env_info = env.reset(train_mode=True)[brain_name]\n",
    "\n",
    "# number of agents in the environment\n",
    "print('Number of agents:', len(env_info.agents))\n",
    "\n",
    "# number of actions\n",
    "action_size = brain.vector_action_space_size\n",
    "print('Number of actions:', action_size)\n",
    "\n",
    "# examine the state space # n c d h w\n",
    "state = env_info.visual_observations[0]\n",
    "print(state.shape)\n",
    "print('States look like:')\n",
    "plt.imshow(np.squeeze(state))\n",
    "plt.show()\n",
    "state_size = state.shape\n",
    "print('States have shape:', state.shape)\n",
    "\n",
    "\n",
    "\n",
    "# Make a copy of the image\n",
    "state_copy = np.float32(np.copy(np.squeeze(state)))\n",
    "\n",
    "# Convert to grayscale\n",
    "gray = cv2.cvtColor(state_copy, cv2.COLOR_BGR2GRAY)\n",
    "\n",
    "plt.imshow(gray, cmap='gray')"
   ]
  },
  {
   "cell_type": "markdown",
   "metadata": {},
   "source": [
    "### 3. Take Random Actions in the Environment\n",
    "\n",
    "In the next code cell, you will learn how to use the Python API to control the agent and receive feedback from the environment.\n",
    "\n",
    "Once this cell is executed, you will watch the agent's performance, if it selects an action (uniformly) at random with each time step.  A window should pop up that allows you to observe the agent, as it moves through the environment.  \n",
    "\n",
    "Of course, you'll have to change the code so that the agent is able to use its experience to gradually choose better actions when interacting with the environment!"
   ]
  },
  {
   "cell_type": "code",
   "execution_count": null,
   "metadata": {},
   "outputs": [],
   "source": [
    "env_info = env.reset(train_mode=False)[brain_name] # reset the environment\n",
    "state = env_info.visual_observations[0]            # get the current state\n",
    "score = 0                                          # initialize the score\n",
    "while True:\n",
    "    action = np.random.randint(action_size)        # select an action\n",
    "    env_info = env.step(action)[brain_name]        # send the action to the environment\n",
    "    next_state = env_info.visual_observations[0]   # get the next state\n",
    "    reward = env_info.rewards[0]                   # get the reward\n",
    "    done = env_info.local_done[0]                  # see if episode has finished\n",
    "    score += reward                                # update the score\n",
    "    state = next_state                             # roll over the state to next time step\n",
    "    if done:                                       # exit loop if episode finished\n",
    "        break\n",
    "    \n",
    "print(\"Score: {}\".format(score))"
   ]
  },
  {
   "cell_type": "markdown",
   "metadata": {},
   "source": [
    "When finished, you can close the environment."
   ]
  },
  {
   "cell_type": "code",
   "execution_count": null,
   "metadata": {},
   "outputs": [],
   "source": [
    "env.close()"
   ]
  },
  {
   "cell_type": "markdown",
   "metadata": {},
   "source": [
    "### 4. It's Your Turn!\n",
    "\n",
    "Now it's your turn to train your own agent to solve the environment!  When training the environment, set `train_mode=True`, so that the line for resetting the environment looks like the following:\n",
    "```python\n",
    "env_info = env.reset(train_mode=True)[brain_name]\n",
    "```"
   ]
  },
  {
   "cell_type": "code",
   "execution_count": null,
   "metadata": {},
   "outputs": [],
   "source": [
    "% load_ext autoreload\n",
    "% autoreload 2\n",
    "\n",
    "from dqn_agent import Agent"
   ]
  },
  {
   "cell_type": "code",
   "execution_count": null,
   "metadata": {},
   "outputs": [],
   "source": [
    "import torch\n",
    "#env = UnityEnvironment(file_name=\"Banana_Linux/Banana.x86_64\")\n",
    "\n",
    "# get the default brain\n",
    "brain_name = env.brain_names[0]\n",
    "brain = env.brains[brain_name]\n",
    "\n",
    "# reset the environment\n",
    "env_info = env.reset(train_mode=False)[brain_name]\n",
    "\n",
    "# number of actions and states\n",
    "action_size = brain.vector_action_space_size\n",
    "\n",
    "# number of frames to consider at once\n",
    "\n",
    "nframes = 4\n",
    "\n",
    "agent = Agent(action_size=action_size, seed=0, image=True, in_channels=nframes*3) # '3' color channels per frame\n",
    "reload = False\n",
    "mem = True\n",
    "tag = '_big'\n",
    "if reload:\n",
    "    agent.load(tag, mem=True)"
   ]
  },
  {
   "cell_type": "code",
   "execution_count": null,
   "metadata": {},
   "outputs": [],
   "source": [
    "import torch\n",
    "# Convert to grayscale\n",
    "def bgr2grey(state):\n",
    "    state = np.copy(state)\n",
    "    state = np.float32(np.squeeze(state))\n",
    "    state = cv2.cvtColor(state, cv2.COLOR_BGR2GRAY)\n",
    "    state = np.expand_dims(state, axis=0)\n",
    "    return state\n",
    "\n",
    "#def swapaxes(state): # 1xHxWxC --> Cx1xWxH\n",
    "#    state = np.float32(np.squeeze(state)) # HxWxC\n",
    "#    state = np.swapaxes(state,0,2) # CxWxH\n",
    "#    state = np.expand_dims(state,1) # Cx1xWxH\n",
    "#    return(state)\n",
    "\n",
    "def swapaxes(state): # 1xHxWxC --> CxHxW\n",
    "    state = np.swapaxes(state,0,3) # CxHxWx1\n",
    "    state = np.float32(np.squeeze(state)) # CxHxW\n",
    "    return(state)\n",
    "\n",
    "def stack_frames(frames):\n",
    "    frames = np.vstack(frames)\n",
    "    #np.swapaxes(frames,0,1 # 3D\n",
    "    return frames"
   ]
  },
  {
   "cell_type": "code",
   "execution_count": null,
   "metadata": {},
   "outputs": [],
   "source": [
    "def dqn(n_episodes=1000, eps_start=0.2, eps_end=0.01, eps_decay=0.995): # eps_decay=0.995\n",
    "#def dqn(n_episodes=2001, eps_start=0.0101, eps_end=0.01, eps_decay=0.99): # eps_decay=0.995\n",
    "    \"\"\"Deep Q-Learning.\n",
    "    \n",
    "    Params\n",
    "    ======\n",
    "        n_episodes (int): maximum number of training episodes\n",
    "        max_t (int): maximum number of timesteps per episode\n",
    "        eps_start (float): starting value of epsilon, for epsilon-greedy action selection\n",
    "        eps_end (float): minimum value of epsilon\n",
    "        eps_decay (float): multiplicative factor (per episode) for decreasing epsilon\n",
    "        \n",
    "    Notes\n",
    "    =====\n",
    "        number of frames per episode is 300\n",
    "    \"\"\"\n",
    "    \n",
    "    max_score = 13\n",
    "    full_run = True\n",
    "    replay_start_size = 0 # number of fully random policy iterations before epsilon decay\n",
    "    #eps_decay = (eps_start-eps_end)/eps_final_frame # Linear decay \n",
    "    scores = []                        # list containing scores from each episode\n",
    "    scores_window = deque(maxlen=100)  # last 100 scores\n",
    "    frames = deque(maxlen=nframes)\n",
    "    eps = eps_start                    # initialize epsilon\n",
    "    frame_count = 0\n",
    "    for i_episode in range(1, n_episodes+1):\n",
    "        env_info = env.reset(train_mode=True)[brain_name] # reset the environment\n",
    "        state = env_info.visual_observations[0]           # get the current state\n",
    "        #sim = bgr2grey(state)                           # convert to grayscale\n",
    "        state = swapaxes(state)\n",
    "        for _ in range(nframes):\n",
    "            #frames.append([state]) # 3D\n",
    "            frames.append(state)\n",
    "        score = 0\n",
    "       \n",
    "        while True:\n",
    "            if eps == eps_start:\n",
    "                eps_ = 1.0\n",
    "            else:\n",
    "                eps_ = eps\n",
    "            state = stack_frames(frames)\n",
    "            action = agent.act(state, eps_)                 # select an action\n",
    "            env_info = copy.deepcopy(env.step(action)[brain_name])        # send the action to the environment\n",
    "            next_state = env_info.visual_observations[0]   # get the next state\n",
    "            \n",
    "            next_state = swapaxes(next_state)\n",
    "            #frames.append([next_state]) # 3D\n",
    "            frames.append(next_state)\n",
    "            next_state = stack_frames(frames)\n",
    "            reward = env_info.rewards[0]                   # get the reward\n",
    "            done = env_info.local_done[0]                  # see if episode has finished\n",
    "            agent.step(state, action, reward, next_state, done, eps_) #,p)\n",
    "            score += reward\n",
    "            #state = next_state\n",
    "            frame_count += 1\n",
    "            if done:\n",
    "                break\n",
    "        if frame_count <= replay_start_size:\n",
    "            eps = eps_start\n",
    "        else:\n",
    "            eps = max(eps_end, eps_decay*eps) # decrease epsilon\n",
    "            #eps = max(eps_end, eps - eps_decay) # linear decrease epsilon\n",
    "        scores_window.append(score)       # save most recent score\n",
    "        scores.append(score)             # save most recent score\n",
    "        agent.score = score * 0.5\n",
    "        if i_episode % 100 == 0:\n",
    "            agent.save(tag, mem=False)\n",
    "            agent.load(tag, mem=False)\n",
    "        print('\\rEpisode {}\\t| Average Score: {:.2f}\\t| Epsilon: {:.3f}\\t| Memory_Size: {}\\t| Frame_Count: {}\\t '.format(\n",
    "            i_episode, np.mean(scores_window), eps, len(agent.memory), frame_count), end=\"\")\n",
    "        if i_episode % 100 == 0:\n",
    "            print('\\rEpisode {}\\t| Average Score: {:.2f}\\t| Epsilon: {:.3f}\\t| Memory_Size: {}\\t| Frame_Count: {}\\t '.format(\n",
    "                i_episode, np.mean(scores_window), eps, len(agent.memory), frame_count))\n",
    "        if np.mean(scores_window)>=max_score:\n",
    "            print('\\nEnvironment solved in {:d} episodes!\\tAverage Score: {:.2f}'.format(i_episode-100, np.mean(scores_window)))\n",
    "            agent.save(tag, mem=False)\n",
    "            max_score += 1\n",
    "            if not full_run:\n",
    "                break\n",
    "    return scores # , delta\n",
    "\n",
    "scores = dqn()\n",
    "\n",
    "# plot the scores\n",
    "fig = plt.figure()\n",
    "ax = fig.add_subplot(111)\n",
    "plt.plot(np.arange(len(scores)), scores)\n",
    "plt.ylabel('Score')\n",
    "plt.xlabel('Episode #')\n",
    "plt.show()"
   ]
  },
  {
   "cell_type": "raw",
   "metadata": {},
   "source": [
    "Episode 100\t| Average Score: 0.17\t| Epsilon: 0.121\t| Memory_Size: 25000\t| Frame_Count: 30000\t \n",
    "Episode 200\t| Average Score: 1.40\t| Epsilon: 0.073\t| Memory_Size: 25000\t| Frame_Count: 60000\t \n",
    "Episode 300\t| Average Score: 3.09\t| Epsilon: 0.044\t| Memory_Size: 25000\t| Frame_Count: 90000\t \n",
    "Episode 400\t| Average Score: 4.71\t| Epsilon: 0.027\t| Memory_Size: 25000\t| Frame_Count: 120000\t \n",
    "Episode 500\t| Average Score: 6.61\t| Epsilon: 0.016\t| Memory_Size: 25000\t| Frame_Count: 150000\t \n",
    "Episode 600\t| Average Score: 7.67\t| Epsilon: 0.010\t| Memory_Size: 25000\t| Frame_Count: 180000\t \n",
    "Episode 700\t| Average Score: 7.72\t| Epsilon: 0.010\t| Memory_Size: 25000\t| Frame_Count: 210000\t \n",
    "Episode 800\t| Average Score: 8.67\t| Epsilon: 0.010\t| Memory_Size: 25000\t| Frame_Count: 240000\t \n",
    "Episode 900\t| Average Score: 9.02\t| Epsilon: 0.010\t| Memory_Size: 25000\t| Frame_Count: 270000\t \n",
    "Episode 912\t| Average Score: 9.00\t| Epsilon: 0.010\t| Memory_Size: 25000\t| Frame_Count: 273600\t"
   ]
  },
  {
   "cell_type": "code",
   "execution_count": null,
   "metadata": {},
   "outputs": [],
   "source": [
    "agent.save(tag)"
   ]
  },
  {
   "cell_type": "code",
   "execution_count": null,
   "metadata": {},
   "outputs": [],
   "source": [
    "# plot the sim\n",
    "x = np.array(sim)\n",
    "#x = x[:-1] - x[1:]\n",
    "fig = plt.figure()\n",
    "ax = fig.add_subplot(111)\n",
    "plt.plot(np.arange(len(x)), x)\n",
    "plt.ylabel('Sum')\n",
    "plt.xlabel('Episode #')\n",
    "plt.show()"
   ]
  }
 ],
 "metadata": {
  "kernelspec": {
   "display_name": "Python 3",
   "language": "python",
   "name": "python3"
  },
  "language_info": {
   "codemirror_mode": {
    "name": "ipython",
    "version": 3
   },
   "file_extension": ".py",
   "mimetype": "text/x-python",
   "name": "python",
   "nbconvert_exporter": "python",
   "pygments_lexer": "ipython3",
   "version": "3.6.6"
  }
 },
 "nbformat": 4,
 "nbformat_minor": 2
}
